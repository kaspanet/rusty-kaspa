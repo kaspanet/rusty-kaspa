{
 "cells": [
  {
   "cell_type": "markdown",
   "metadata": {},
   "source": [
    "### Feerates\n",
    "\n",
    "The feerate value represents the fee/mass ratio of a transaction in `sompi/gram` units.\n",
    "Given a feerate value recommendation, one should calculate the required fee by taking the transaction mass and multiplying it by feerate: `fee = feerate * mass(tx)`. \n",
    "\n",
    "This notebook makes an effort to implement and illustrate the feerate estimator method we used. The corresponding Rust implementation is more comprehensive and addresses some additional edge cases, but the code in this notebook highly reflects it."
   ]
  },
  {
   "cell_type": "code",
   "execution_count": 97,
   "metadata": {},
   "outputs": [],
   "source": [
    "import numpy as np\n",
    "import matplotlib.pyplot as plt"
   ]
  },
  {
   "cell_type": "code",
   "execution_count": 98,
   "metadata": {},
   "outputs": [],
   "source": [
    "feerates = [1.0, 1.1, 1.2]*10 + [1.5]*3000 + [2]*3000 + [2.1]*3000 + [3, 4, 5]*10\n",
    "# feerates = [1.0, 1.1, 1.2] + [1.1]*100 + [1.2]*100 + [1.3]*100  # + [3, 4, 5, 100]"
   ]
  },
  {
   "cell_type": "markdown",
   "metadata": {},
   "source": [
    "We compute the probability weight of each transaction by raising `feerate` to the power of `alpha` (currently set to `3`). Essentially, alpha represents the amount of bias we want towards higher feerate transactions. "
   ]
  },
  {
   "cell_type": "code",
   "execution_count": 99,
   "metadata": {},
   "outputs": [],
   "source": [
    "ALPHA = 3.0"
   ]
  },
  {
   "cell_type": "code",
   "execution_count": 100,
   "metadata": {},
   "outputs": [
    {
     "name": "stdout",
     "output_type": "stream",
     "text": [
      "Total mempool weight:  64108.589999995806\n"
     ]
    }
   ],
   "source": [
    "total_weight = sum(np.array(feerates)**ALPHA)\n",
    "print('Total mempool weight: ', total_weight)"
   ]
  },
  {
   "cell_type": "code",
   "execution_count": 101,
   "metadata": {},
   "outputs": [],
   "source": [
    "avg_mass = 2000\n",
    "bps = 1\n",
    "block_mass_limit = 500_000\n",
    "network_mass_rate = bps * block_mass_limit"
   ]
  },
  {
   "cell_type": "code",
   "execution_count": 102,
   "metadata": {},
   "outputs": [
    {
     "name": "stdout",
     "output_type": "stream",
     "text": [
      "Inclusion interval:  0.004\n"
     ]
    }
   ],
   "source": [
    "print('Inclusion interval: ', avg_mass/network_mass_rate)"
   ]
  },
  {
   "cell_type": "code",
   "execution_count": 109,
   "metadata": {},
   "outputs": [],
   "source": [
    "class FeerateBucket:\n",
    "    def __init__(self, feerate, estimated_seconds):\n",
    "        self.feerate = feerate\n",
    "        self.estimated_seconds = estimated_seconds\n",
    "        \n",
    "\n",
    "class FeerateEstimations:\n",
    "    def __init__(self, low_bucket, mid_bucket, normal_bucket, priority_bucket):\n",
    "        self.low_bucket = low_bucket        \n",
    "        self.mid_bucket = mid_bucket  \n",
    "        self.normal_bucket = normal_bucket\n",
    "        self.priority_bucket = priority_bucket\n",
    "    \n",
    "    def __repr__(self):\n",
    "        return 'Feerates:\\t{}, {}, {}, {} \\nTimes:\\t\\t{}, {}, {}, {}'.format(\n",
    "                                                self.low_bucket.feerate, \n",
    "                                                self.mid_bucket.feerate, \n",
    "                                                self.normal_bucket.feerate,\n",
    "                                                self.priority_bucket.feerate, \n",
    "                                                self.low_bucket.estimated_seconds, \n",
    "                                                self.mid_bucket.estimated_seconds, \n",
    "                                                self.normal_bucket.estimated_seconds, \n",
    "                                                self.priority_bucket.estimated_seconds)\n",
    "    def feerates(self):\n",
    "        return np.array([\n",
    "            self.low_bucket.feerate, \n",
    "            self.mid_bucket.feerate, \n",
    "            self.normal_bucket.feerate,\n",
    "            self.priority_bucket.feerate\n",
    "        ])\n",
    "        \n",
    "    def times(self):\n",
    "        return np.array([\n",
    "            self.low_bucket.estimated_seconds, \n",
    "            self.mid_bucket.estimated_seconds, \n",
    "            self.normal_bucket.estimated_seconds,\n",
    "            self.priority_bucket.estimated_seconds\n",
    "        ])\n",
    "    \n",
    "class FeerateEstimator:\n",
    "    \"\"\"\n",
    "    `total_weight`: The total probability weight of all current mempool ready \n",
    "                    transactions, i.e., Σ_{tx in mempool}(tx.fee/tx.mass)^ALPHA\n",
    "                    \n",
    "    'inclusion_interval': The amortized time between transactions given the current \n",
    "                    transaction masses present in the mempool, i.e., the inverse \n",
    "                    of the transaction inclusion rate. For instance, if the average \n",
    "                    transaction mass is 2500 grams, the block mass limit is 500,000\n",
    "                    and the network has 10 BPS, then this number would be 1/2000 seconds.\n",
    "    \"\"\"\n",
    "    def __init__(self, total_weight, inclusion_interval):\n",
    "        self.total_weight = total_weight\n",
    "        self.inclusion_interval = inclusion_interval\n",
    "\n",
    "    \"\"\"\n",
    "    Feerate to time function: f(feerate) = inclusion_interval * (1/p(feerate))\n",
    "    where p(feerate) = feerate^ALPHA/(total_weight + feerate^ALPHA) represents \n",
    "    the probability function for drawing `feerate` from the mempool\n",
    "    in a single trial. The inverse 1/p is the expected number of trials until\n",
    "    success (with repetition), thus multiplied by inclusion_interval it provides an\n",
    "    approximation to the overall expected waiting time\n",
    "    \"\"\"\n",
    "    def feerate_to_time(self, feerate):\n",
    "        c1, c2 = self.inclusion_interval, self.total_weight\n",
    "        return c1 * c2 / feerate**ALPHA + c1\n",
    "\n",
    "    \"\"\"\n",
    "    The inverse function of `feerate_to_time`\n",
    "    \"\"\"\n",
    "    def time_to_feerate(self, time):\n",
    "        c1, c2 = self.inclusion_interval, self.total_weight\n",
    "        return ((c1 * c2 / time) / (1 - c1 / time))**(1 / ALPHA)\n",
    "    \n",
    "    \"\"\"\n",
    "    The antiderivative function of \n",
    "    feerate_to_time excluding the constant shift `+ c1`\n",
    "    \"\"\"\n",
    "    def feerate_to_time_antiderivative(self, feerate):\n",
    "        c1, c2 = self.inclusion_interval, self.total_weight\n",
    "        return c1 * c2 / (-2.0 * feerate**(ALPHA - 1))\n",
    "    \n",
    "    \"\"\"\n",
    "    Returns the feerate value for which the integral area is `frac` of the total area.\n",
    "    See figures below for illustration\n",
    "    \"\"\"\n",
    "    def quantile(self, lower, upper, frac):\n",
    "        c1, c2 = self.inclusion_interval, self.total_weight\n",
    "        z1 = self.feerate_to_time_antiderivative(lower)\n",
    "        z2 = self.feerate_to_time_antiderivative(upper)\n",
    "        z = frac * z2 + (1.0 - frac) * z1\n",
    "        return ((c1 * c2) / (-2 * z))**(1.0 / (ALPHA - 1.0))\n",
    "    \n",
    "    def calc_estimations(self):\n",
    "        # Choose `high` such that it provides sub-second waiting time\n",
    "        high = self.time_to_feerate(1.0)\n",
    "        \n",
    "        # Choose `low` feerate such that it provides sub-hour waiting time AND it covers (at least) the 0.25 quantile\n",
    "        low = max(self.time_to_feerate(3600.0), self.quantile(1.0, high, 0.25))\n",
    "        \n",
    "        # Choose `normal` feerate such that it provides sub-minute waiting time AND it covers (at least) the 0.66\n",
    "        # quantile between low and high\n",
    "        normal = max(self.time_to_feerate(60.0), self.quantile(low, high, 0.66))\n",
    "        \n",
    "        # Choose an additional point between normal and low\n",
    "        mid = max(self.time_to_feerate(1800.0), self.quantile(1.0, high, 0.5))\n",
    "        \n",
    "        return FeerateEstimations(\n",
    "            FeerateBucket(low, self.feerate_to_time(low)),\n",
    "            FeerateBucket(mid, self.feerate_to_time(mid)),\n",
    "            FeerateBucket(normal, self.feerate_to_time(normal)),\n",
    "            FeerateBucket(high, self.feerate_to_time(high)))"
   ]
  },
  {
   "cell_type": "code",
   "execution_count": 104,
   "metadata": {},
   "outputs": [
    {
     "data": {
      "text/plain": [
       "0.0"
      ]
     },
     "execution_count": 104,
     "metadata": {},
     "output_type": "execute_result"
    }
   ],
   "source": [
    "estimator = FeerateEstimator(total_weight=0, inclusion_interval=1/100)\n",
    "# estimator.quantile(2, 3, 0.5)\n",
    "estimator.time_to_feerate(1)"
   ]
  },
  {
   "cell_type": "markdown",
   "metadata": {},
   "source": [
    "### Feerate estimation\n",
    "\n",
    "The figure below illustrates the estimator selection. We first estimate the `feerate_to_time` function and then select 3 meaningfull points by analyzing the curve and its integral (see `calc_estimations`). "
   ]
  },
  {
   "cell_type": "code",
   "execution_count": 105,
   "metadata": {},
   "outputs": [
    {
     "data": {
      "image/png": "[encoded data removed]",
      "text/plain": [
       "<Figure size 432x288 with 1 Axes>"
      ]
     },
     "metadata": {},
     "output_type": "display_data"
    },
    {
     "data": {
      "text/plain": [
       "Feerates:\t1.1499744606513134, 1.3970589103224236, 1.9124681884207781, 6.361686926992798 \n",
       "Times:\t\t168.62498827393395, 94.04820895845543, 36.664092522353194, 1.0000000000000004"
      ]
     },
     "execution_count": 105,
     "metadata": {},
     "output_type": "execute_result"
    }
   ],
   "source": [
    "estimator = FeerateEstimator(total_weight=total_weight, \n",
    "                             inclusion_interval=avg_mass/network_mass_rate)\n",
    "\n",
    "pred = estimator.calc_estimations()\n",
    "x = np.linspace(1, pred.priority_bucket.feerate, 100000)\n",
    "y = estimator.feerate_to_time(x)\n",
    "plt.figure()\n",
    "plt.plot(x, y)\n",
    "plt.fill_between(x, estimator.inclusion_interval, y2=y, alpha=0.5)\n",
    "plt.scatter(pred.feerates(), pred.times(), zorder=100)\n",
    "plt.show()\n",
    "pred"
   ]
  },
  {
   "cell_type": "markdown",
   "metadata": {},
   "source": [
    "### Interpolating the original function using two of the points\n",
    "\n",
    "The code below reverse engineers the original curve using only 2 of the estimated points"
   ]
  },
  {
   "cell_type": "code",
   "execution_count": 106,
   "metadata": {},
   "outputs": [
    {
     "data": {
      "image/png": "[encoded data removed]",
      "text/plain": [
       "<Figure size 432x288 with 1 Axes>"
      ]
     },
     "metadata": {},
     "output_type": "display_data"
    },
    {
     "data": {
      "text/plain": [
       "(array([168.62498827,  94.03830275,  36.64656385,   0.97773399]),\n",
       " array([168.62498827,  94.04820896,  36.66409252,   1.        ]))"
      ]
     },
     "execution_count": 106,
     "metadata": {},
     "output_type": "execute_result"
    }
   ],
   "source": [
    "x1, x2 = pred.low_bucket.feerate**ALPHA, pred.normal_bucket.feerate**ALPHA\n",
    "y1, y2 = pred.low_bucket.estimated_seconds, pred.normal_bucket.estimated_seconds\n",
    "b2 = (y1 - y2*x2/x1) / (1 - x1/x2)\n",
    "b1 = (y1 - b2) * x1\n",
    "def p(ff):\n",
    "    return b1/ff**ALPHA + b2\n",
    "\n",
    "plt.figure()\n",
    "plt.plot(x, p(x))\n",
    "plt.scatter(pred.feerates(), pred.times(), zorder=100)\n",
    "plt.show()\n",
    "p(pred.feerates()), pred.times()"
   ]
  },
  {
   "cell_type": "markdown",
   "metadata": {},
   "source": [
    "### Challenge: outliers\n",
    "\n",
    "The segment below illustrates a challenge in the current approach. It is sufficient to add a single outlier \n",
    "to the total weight (with `feerate=100`), and the `feerate_to_time` function is notably influenced. In truth, this tx should not affect our prediction because it only captures the first slot of each block, however because we sample with repetition it has a significant impact on the function. The following figure shows the `feerate_to_time` function with such an outlier "
   ]
  },
  {
   "cell_type": "code",
   "execution_count": 107,
   "metadata": {},
   "outputs": [
    {
     "data": {
      "image/png": "[encoded data removed]",
      "text/plain": [
       "<Figure size 432x288 with 1 Axes>"
      ]
     },
     "metadata": {},
     "output_type": "display_data"
    },
    {
     "data": {
      "text/plain": [
       "Feerates:\t1.1539704395225572, 1.4115360845240776, 4.139754128892224, 16.2278954349457 \n",
       "Times:\t\t2769.889957638353, 1513.4606486459202, 60.00000000000002, 1.0000000000000007"
      ]
     },
     "execution_count": 107,
     "metadata": {},
     "output_type": "execute_result"
    }
   ],
   "source": [
    "estimator = FeerateEstimator(total_weight=total_weight + 100**ALPHA, \n",
    "                             inclusion_interval=avg_mass/network_mass_rate)\n",
    "\n",
    "pred = estimator.calc_estimations()\n",
    "x = np.linspace(1, pred.priority_bucket.feerate, 100000)\n",
    "y = estimator.feerate_to_time(x)\n",
    "plt.figure()\n",
    "plt.plot(x, y)\n",
    "plt.fill_between(x, estimator.inclusion_interval, y2=y, alpha=0.5)\n",
    "plt.scatter(pred.feerates(), pred.times(), zorder=100)\n",
    "plt.show()\n",
    "pred"
   ]
  },
  {
   "cell_type": "markdown",
   "metadata": {},
   "source": [
    "### Outliers: solution\n",
    "\n",
    "Compute the estimator conditioned on the event the top most transaction captures the first slot. This decreases `total_weight` on the one hand (thus increasing `p`), while increasing `inclusion_interval` on the other, by capturing a block slot. If this estimator gives lower prediction times we switch to it, and then repeat the process with the next highest transaction. The process converges when the estimator is no longer improving or if all block slots are captured. "
   ]
  },
  {
   "cell_type": "code",
   "execution_count": 108,
   "metadata": {},
   "outputs": [
    {
     "data": {
      "image/png": "[encoded data removed]",
      "text/plain": [
       "<Figure size 432x288 with 1 Axes>"
      ]
     },
     "metadata": {},
     "output_type": "display_data"
    },
    {
     "data": {
      "text/plain": [
       "Feerates:\t1.1531420689155165, 1.4085104512204296, 2.816548045571761, 11.10120050773006 \n",
       "Times:\t\t874.010579873836, 479.615551452334, 60.00000000000001, 1.0000000000000004"
      ]
     },
     "execution_count": 108,
     "metadata": {},
     "output_type": "execute_result"
    }
   ],
   "source": [
    "def build_estimator():\n",
    "    _feerates = [1.0]*10 + [1.1]*10 + [1.2]*10 + [1.5]*3000 + [2]*3000\\\n",
    "+ [2.1]*3000 + [3]*10 + [4]*10 + [5]*10 + [6] + [7] + [10] + [100] + [200]*200\n",
    "    _total_weight = sum(np.array(_feerates)**ALPHA)\n",
    "    _network_mass_rate = bps * block_mass_limit\n",
    "    estimator = FeerateEstimator(total_weight=_total_weight, \n",
    "                                 inclusion_interval=avg_mass/_network_mass_rate)\n",
    "    \n",
    "    nr = _network_mass_rate\n",
    "    for i in range(len(_feerates)-1, -1, -1):\n",
    "        tw = sum(np.array(_feerates[:i])**ALPHA)\n",
    "        nr -= avg_mass\n",
    "        if nr <= 0:\n",
    "            print(\"net mass rate {}\", nr)\n",
    "            break\n",
    "        e = FeerateEstimator(total_weight=tw, \n",
    "                             inclusion_interval=avg_mass/nr)\n",
    "        if e.feerate_to_time(1.0) < estimator.feerate_to_time(1.0):\n",
    "            # print(\"removing {}\".format(_feerates[i]))\n",
    "            estimator = e\n",
    "        else:\n",
    "            break\n",
    "        \n",
    "    return estimator\n",
    "\n",
    "estimator = build_estimator()\n",
    "pred = estimator.calc_estimations()\n",
    "x = np.linspace(1, pred.priority_bucket.feerate, 100000)\n",
    "y = estimator.feerate_to_time(x)\n",
    "plt.figure()\n",
    "plt.plot(x, y)\n",
    "plt.fill_between(x, estimator.inclusion_interval, y2=y, alpha=0.5)\n",
    "plt.scatter(pred.feerates(), pred.times(), zorder=100)\n",
    "plt.show()\n",
    "pred"
   ]
  },
  {
   "cell_type": "code",
   "execution_count": null,
   "metadata": {},
   "outputs": [],
   "source": []
  }
 ],
 "metadata": {
  "kernelspec": {
   "display_name": "Python [conda env:gr]",
   "language": "python",
   "name": "conda-env-gr-py"
  },
  "language_info": {
   "codemirror_mode": {
    "name": "ipython",
    "version": 3
   },
   "file_extension": ".py",
   "mimetype": "text/x-python",
   "name": "python",
   "nbconvert_exporter": "python",
   "pygments_lexer": "ipython3",
   "version": "3.6.5"
  }
 },
 "nbformat": 4,
 "nbformat_minor": 2
}
